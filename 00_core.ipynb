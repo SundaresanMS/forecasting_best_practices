{
 "cells": [
  {
   "cell_type": "code",
   "execution_count": null,
   "metadata": {},
   "outputs": [],
   "source": [
    "# default_exp core"
   ]
  },
  {
   "cell_type": "markdown",
   "metadata": {},
   "source": [
    "# module name here\n",
    "\n",
    "> API details."
   ]
  },
  {
   "cell_type": "code",
   "execution_count": null,
   "metadata": {},
   "outputs": [],
   "source": [
    "#hide\n",
    "from nbdev.showdoc import *"
   ]
  },
  {
   "cell_type": "code",
   "execution_count": null,
   "metadata": {},
   "outputs": [],
   "source": [
    "#export\n",
    "def say_hello(to):\n",
    "    \"Say hello to somebody\"\n",
    "    return (f'Hello {to}!')"
   ]
  },
  {
   "cell_type": "markdown",
   "metadata": {},
   "source": [
    "We can say hello to anyone at all but lets start with Sundaresan!"
   ]
  },
  {
   "cell_type": "code",
   "execution_count": null,
   "metadata": {},
   "outputs": [
    {
     "data": {
      "text/plain": [
       "'Hello Sundar!'"
      ]
     },
     "execution_count": null,
     "metadata": {},
     "output_type": "execute_result"
    }
   ],
   "source": [
    "say_hello(\"Sundar\")"
   ]
  },
  {
   "cell_type": "code",
   "execution_count": null,
   "metadata": {},
   "outputs": [],
   "source": []
  },
  {
   "cell_type": "code",
   "execution_count": null,
   "metadata": {},
   "outputs": [],
   "source": [
    "from fastcore.test import *"
   ]
  },
  {
   "cell_type": "code",
   "execution_count": null,
   "metadata": {},
   "outputs": [],
   "source": [
    "test_eq(say_hello(\"Jeremy\"),\"Hello Jeremy!\")"
   ]
  },
  {
   "cell_type": "code",
   "execution_count": null,
   "metadata": {},
   "outputs": [],
   "source": []
  },
  {
   "cell_type": "code",
   "execution_count": null,
   "metadata": {},
   "outputs": [
    {
     "name": "stdout",
     "output_type": "stream",
     "text": [
      " Volume in drive C is OS\n",
      " Volume Serial Number is 8668-4BFF\n",
      "\n",
      " Directory of C:\\Users\\iamsu\\OneDrive\\Documents\\Dev\\forecasting_best_practices\\docs\n",
      "\n",
      "07/03/2021  11:53 AM    <DIR>          .\n",
      "07/03/2021  11:53 AM    <DIR>          ..\n",
      "07/03/2021  10:56 AM                 8 .gitignore\n",
      "07/03/2021  11:53 AM             1,378 _config.yml\n",
      "07/03/2021  11:53 AM    <DIR>          _data\n",
      "07/03/2021  10:56 AM             1,332 feed.xml\n",
      "07/03/2021  10:56 AM               236 Gemfile\n",
      "07/03/2021  10:56 AM             7,645 Gemfile.lock\n",
      "07/03/2021  10:56 AM               495 sitemap.xml\n",
      "               6 File(s)         11,094 bytes\n",
      "               3 Dir(s)  888,881,963,008 bytes free\n"
     ]
    }
   ],
   "source": [
    "ls docs"
   ]
  },
  {
   "cell_type": "code",
   "execution_count": null,
   "metadata": {},
   "outputs": [],
   "source": []
  }
 ],
 "metadata": {
  "kernelspec": {
   "display_name": "Python 3",
   "language": "python",
   "name": "python3"
  }
 },
 "nbformat": 4,
 "nbformat_minor": 2
}
